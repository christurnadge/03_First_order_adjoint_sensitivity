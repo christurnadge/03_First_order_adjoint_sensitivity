{
 "cells": [
  {
   "cell_type": "markdown",
   "metadata": {},
   "source": [
    "### Sensitivity of hydraulic head at a point to a uniform, spatially distributed flux under steady state flow conditions"
   ]
  },
  {
   "cell_type": "markdown",
   "metadata": {},
   "source": [
    "The sensitivity of hydraulic head ($h$) at a given point ($x'$) to a uniform, spatially distributed flux ($Q_r$) under steady state flow conditions in a one-dimensional plane can be calculated using an adjoint state-based approach as:\n",
    "$$\\begin{align}\\cr\n",
    "\\frac{\\partial h(x')}{\\partial Q_r}=\\int\\limits_X\\psi^*(x)\\;dx\n",
    "\\cr\\cr\\end{align}$$\n",
    "This expression states that this sensitivity is equal to the spatial integral of the adjoint state variable, as calculated by the adjoint state model."
   ]
  },
  {
   "cell_type": "markdown",
   "metadata": {},
   "source": [
    "### 1. Model setup"
   ]
  },
  {
   "cell_type": "markdown",
   "metadata": {},
   "source": [
    "The forward model is defined using the following five parameters:\n",
    "1. Location of Dirichlet boundary ($BC1\\_x$)\n",
    "2. Hydraulic head specified on Dirichlet boundary ($BC1\\_h$) \n",
    "4. Uniform volumetric flux applied across the model domain ($Q_r$) \n",
    "5. Hydraulic conductivity ($K$)\n",
    "\n",
    "Top and bottom of aquifer elevations are set to -100.0 and -101.0 metres respectively (resulting in an aquifer that is one metre thick) to ensure confined conditions.\n",
    "\n",
    "Zero-valued Neumann boundary conditions are specified on the left-hand side of the model to represent an impermeable boundary.\n",
    "\n",
    "Dirichlet boundary conditions are specified on the right-hand side of the model to represent outflows.\n",
    "\n",
    "The hydraulic head observation of interest is located at the midpoint of the model domain (i.e. at $obs\\_x$).\n",
    "\n",
    "Values for the 'base' parameter set are defined as follows. These can be modified to demonstrate the method for other model configurations."
   ]
  },
  {
   "cell_type": "code",
   "execution_count": 1,
   "metadata": {},
   "outputs": [],
   "source": [
    "import numpy as np\n",
    "\n",
    "BC1_x = 7.0\n",
    "BC1_h = 1.0\n",
    "BC2_x = 0.0\n",
    "Qr    = 1.0\n",
    "obs_x = (BC1_x-BC2_x)/2.\n",
    "K     = 0.2\n",
    "dpar  = 1e-4\n",
    "X     = np.arange(0.5, 7.5, 1.0)"
   ]
  },
  {
   "cell_type": "markdown",
   "metadata": {},
   "source": [
    "The forward model and boundary conditions can be presented visually as follows."
   ]
  },
  {
   "cell_type": "code",
   "execution_count": 2,
   "metadata": {},
   "outputs": [
    {
     "data": {
      "image/png": "[encoded data removed]",
      "text/plain": [
       "<Figure size 680.315x226.772 with 1 Axes>"
      ]
     },
     "metadata": {
      "needs_background": "light"
     },
     "output_type": "display_data"
    }
   ],
   "source": [
    "%matplotlib inline\n",
    "import matplotlib as mpl\n",
    "import matplotlib.pyplot as plt\n",
    "\n",
    "f,s = plt.subplots(1, 1, figsize=[24.00/2.54, 8.00/2.54])\n",
    "s.set_aspect(1.5)\n",
    "s.set_title('Forward model grid and boundary conditions\\n')\n",
    "s.set_xlim(BC2_x-0.5, BC1_x+0.5)\n",
    "s.set_ylim(0., 1.)\n",
    "s.set_xlabel('$x$ (m)')\n",
    "s.set_ylabel('$z$ (m)')\n",
    "s.plot([BC2_x, BC1_x], [0.5, 0.5], 'k-', lw=1.)\n",
    "s.plot(obs_x, 0.5, 'o', ms=12, mfc='purple', mec='k', label=\"Observation well location ($x'$)\") \n",
    "s.plot(BC1_x, 0.5, 'o', ms=12, mfc='r', mec='k', label='Dirichlet boundary condition ($h_{\\Gamma_1}$)') \n",
    "s.spines['right'].set_visible(False)\n",
    "s.spines['top'].set_visible(False)\n",
    "l = f.legend(fancybox=False, frameon=False, loc=8, ncol=3)"
   ]
  },
  {
   "cell_type": "markdown",
   "metadata": {},
   "source": [
    "### 2. Sensitivity calculation using perturbation-based approach"
   ]
  },
  {
   "cell_type": "markdown",
   "metadata": {},
   "source": [
    "First, the forward model featuring the 'base' parameter set is run."
   ]
  },
  {
   "cell_type": "code",
   "execution_count": 3,
   "metadata": {},
   "outputs": [
    {
     "name": "stdout",
     "output_type": "stream",
     "text": [
      "Starting solve\n",
      "Number of elements:  3\n",
      "Percent progress:  0  \n",
      "size of matrix (3L, 3L)\n",
      "Solution complete\n"
     ]
    }
   ],
   "source": [
    "import timml\n",
    "\n",
    "ml  = timml.Model(k=[K], zb=[-101.], zt=[-100.], c=[1.])\n",
    "BC1 = timml.HeadLineSink(  ml, x1=BC1_x, y1=-100., x2=BC1_x, y2=100., head=BC1_h)\n",
    "BC2 = timml.LineDoubletImp(ml, x1=BC2_x, y1=-100., x2=BC2_x, y2=100., order=1)\n",
    "UDF = timml.PolyAreaSink(ml, xylist=[[BC2_x-100., -100.], [BC2_x-100.,  100.], \n",
    "                                     [BC1_x+100.,  100.], [BC1_x+100., -100.]], infil=-Qr) \n",
    "ml.solve()\n",
    "\n",
    "hds_base = np.array([ml.head(0, x, 0.) for x in X])\n",
    "hob_base = ml.head(0, obs_x, 0.)\n",
    "#timml.timcontour(ml, -200.0, 200.0, 100, -20.0, 20.0, 100)"
   ]
  },
  {
   "cell_type": "markdown",
   "metadata": {},
   "source": [
    "The spatial distribution of hydraulic head calculated by the 'base' forward model can be presented visually as follows."
   ]
  },
  {
   "cell_type": "code",
   "execution_count": 4,
   "metadata": {},
   "outputs": [
    {
     "data": {
      "image/png": "[encoded data removed]",
      "text/plain": [
       "<Figure size 680.315x226.772 with 1 Axes>"
      ]
     },
     "metadata": {
      "needs_background": "light"
     },
     "output_type": "display_data"
    }
   ],
   "source": [
    "f,s = plt.subplots(1, 1, figsize=[24.00/2.54, 8.00/2.54])\n",
    "s.set_title('Forward model - base parameter set\\n')\n",
    "s.set_aspect(0.005)\n",
    "s.plot(X, hds_base, 'ko--', mfc='none')\n",
    "s.set_xlabel('$x$ (m)')\n",
    "s.set_ylabel('$h$ (m)')\n",
    "s.set_xlim(BC2_x, BC1_x)\n",
    "s.spines['top'].set_visible(False)            \n",
    "s.spines['right'].set_visible(False) "
   ]
  },
  {
   "cell_type": "markdown",
   "metadata": {},
   "source": [
    "Second, the forward model featuring the perturbed parameter set is run. "
   ]
  },
  {
   "cell_type": "code",
   "execution_count": 5,
   "metadata": {},
   "outputs": [
    {
     "name": "stdout",
     "output_type": "stream",
     "text": [
      "Starting solve\n",
      "Number of elements:  3\n",
      "Percent progress:  0  \n",
      "size of matrix (3L, 3L)\n",
      "Solution complete\n"
     ]
    }
   ],
   "source": [
    "import timml\n",
    "\n",
    "ml  = timml.Model(k=[K], zb=[-101.], zt=[-100.], c=[1.])\n",
    "BC1 = timml.HeadLineSink(  ml, x1=BC1_x, y1=-100., x2=BC1_x, y2=100., head=BC1_h)\n",
    "BC2 = timml.LineDoubletImp(ml, x1=BC2_x, y1=-100., x2=BC2_x, y2=100., order=1)\n",
    "UDF = timml.PolyAreaSink(ml, xylist=[[BC2_x-100., -100.], [BC2_x-100.,  100.], \n",
    "                                     [BC1_x+100.,  100.], [BC1_x+100., -100.]], infil=-Qr*(1.+dpar)) \n",
    "ml.solve()\n",
    "\n",
    "hds_pert = np.array([ml.head(0, x, 0.) for x in X])\n",
    "hob_pert = ml.head(0, obs_x, 0.)\n",
    "#timml.timcontour(ml, -200.0, 200.0, 100, -20.0, 20.0, 100)"
   ]
  },
  {
   "cell_type": "markdown",
   "metadata": {},
   "source": [
    "The spatial distribution of hydraulic head calculated by the perturbed forward model can be presented visually as follows."
   ]
  },
  {
   "cell_type": "code",
   "execution_count": 13,
   "metadata": {},
   "outputs": [
    {
     "data": {
      "image/png": "[encoded data removed]",
      "text/plain": [
       "<Figure size 680.315x226.772 with 1 Axes>"
      ]
     },
     "metadata": {
      "needs_background": "light"
     },
     "output_type": "display_data"
    }
   ],
   "source": [
    "f,s = plt.subplots(1, 1, figsize=[24.00/2.54, 8.00/2.54])\n",
    "s.set_title('Forward model - perturbed parameter set\\n')\n",
    "s.set_aspect(0.005)\n",
    "s.plot(X, hds_pert, 'ko--', mfc='none')\n",
    "s.set_xlabel('$x$ (m)')\n",
    "s.set_ylabel('$h$ (m)')\n",
    "s.set_xlim(BC2_x, BC1_x)\n",
    "s.spines['top'].set_visible(False)            \n",
    "s.spines['right'].set_visible(False)            "
   ]
  },
  {
   "cell_type": "markdown",
   "metadata": {},
   "source": [
    "Third, the perturbation-based sensitivity is calculated."
   ]
  },
  {
   "cell_type": "code",
   "execution_count": 7,
   "metadata": {},
   "outputs": [],
   "source": [
    "dhdQr_pert = (hob_pert-hob_base)/(Qr*dpar)"
   ]
  },
  {
   "cell_type": "markdown",
   "metadata": {},
   "source": [
    "### 3. Sensitivity calculation using adjoint state-based approach"
   ]
  },
  {
   "cell_type": "markdown",
   "metadata": {},
   "source": [
    "First, the adjoint state model is defined. This is mostly identical to the forward model, except for three conditions: \n",
    "1. The value specified on the Dirichlet boundary is set to zero.\n",
    "2. The flux specified on the Neumann boundary is set to zero; for this reason, a no-flow boundary condition is applied instead.\n",
    "3. A constant source of adjoint state is specified at the location of the hydraulic head observation of interest using a  source term with flux magnitude equal to unity."
   ]
  },
  {
   "cell_type": "code",
   "execution_count": 8,
   "metadata": {},
   "outputs": [
    {
     "name": "stdout",
     "output_type": "stream",
     "text": [
      "Starting solve\n",
      "Number of elements:  3\n",
      "Percent progress:  0  \n",
      "size of matrix (3L, 3L)\n",
      "Solution complete\n"
     ]
    }
   ],
   "source": [
    "ml  = timml.Model(k=[K], zb=[-101.], zt=[-100.], c=[1.])\n",
    "BC1 = timml.HeadLineSink(  ml, x1=BC1_x, y1=-100., x2=BC1_x, y2=100., head=0.)\n",
    "BC2 = timml.LineDoubletImp(ml, x1=BC2_x, y1=-100., x2=BC2_x, y2=100., order=1)\n",
    "lt  = timml.LineSink(      ml, x1=obs_x, y1=-100., x2=obs_x, y2=100., sigma=-1.0)\n",
    "ml.solve()\n",
    "\n",
    "adj = np.array([ml.head(0, x, 0.) for x in X])\n",
    "adj[np.isnan(adj)] = 0.\n",
    "#timml.timcontour(ml, 0.0, 10.0, 100, -10.0, 10.0, 100)"
   ]
  },
  {
   "cell_type": "markdown",
   "metadata": {},
   "source": [
    "The adjoint state model grid and boundary conditions can be presented visually as follows."
   ]
  },
  {
   "cell_type": "code",
   "execution_count": 9,
   "metadata": {},
   "outputs": [
    {
     "data": {
      "image/png": "[encoded data removed]",
      "text/plain": [
       "<Figure size 680.315x226.772 with 1 Axes>"
      ]
     },
     "metadata": {
      "needs_background": "light"
     },
     "output_type": "display_data"
    }
   ],
   "source": [
    "%matplotlib inline\n",
    "import numpy as np\n",
    "import matplotlib as mpl\n",
    "import matplotlib.pyplot as plt\n",
    "from matplotlib.patches import Patch\n",
    "\n",
    "f,s = plt.subplots(1, 1, figsize=[24.00/2.54, 8.00/2.54])\n",
    "s.set_aspect(1.5)\n",
    "s.set_title('Adjoint state model and boundary conditions\\n')\n",
    "s.set_xlim(BC2_x-0.5, BC1_x+0.5)\n",
    "s.set_ylim(0., 1.)\n",
    "s.set_xlabel('$x$ (m)')\n",
    "s.set_ylabel('$z$ (m)')\n",
    "s.plot([BC2_x, BC1_x], [0.5, 0.5], 'k-', lw=1.)\n",
    "s.plot(obs_x, 0.5, 'o', ms=12, mfc='purple', mec='k', \n",
    "       label=\"Constant unit source term at observation well location ($x'$)\") \n",
    "s.plot(BC1_x, 0.5, 'o', ms=12, mfc='r', mec='k', \n",
    "       label='Dirichlet boundary condition ($h_{\\Gamma_1}$)') \n",
    "s.spines['right'].set_visible(False)\n",
    "s.spines['top'].set_visible(False)\n",
    "l = f.legend(fancybox=False, frameon=False, loc=8, ncol=2)"
   ]
  },
  {
   "cell_type": "markdown",
   "metadata": {},
   "source": [
    "The spatial distribution of the adjoint state variable calculated by the adjoint model can be presented visually as follows. Note that the value of the adjoint state variable is zero at the right-most cell; this is because the Dirichlet boundary condition is zero-valued in the adjoint state model."
   ]
  },
  {
   "cell_type": "code",
   "execution_count": 10,
   "metadata": {},
   "outputs": [
    {
     "data": {
      "image/png": "[encoded data removed]",
      "text/plain": [
       "<Figure size 680.315x226.772 with 1 Axes>"
      ]
     },
     "metadata": {
      "needs_background": "light"
     },
     "output_type": "display_data"
    }
   ],
   "source": [
    "f,s = plt.subplots(1, 1, figsize=[24.00/2.54, 8.00/2.54])\n",
    "s.set_title('Adjoint state model\\n')\n",
    "s.set_aspect(0.08)\n",
    "s.plot(X, adj, 'ko--', mfc='none')\n",
    "s.set_xlabel('$x$ (m)')\n",
    "s.set_ylabel('$\\psi^*$ (-)')\n",
    "s.set_xlim(BC2_x, BC1_x)\n",
    "s.spines['top'].set_visible(False)            \n",
    "s.spines['right'].set_visible(False)            "
   ]
  },
  {
   "cell_type": "markdown",
   "metadata": {},
   "source": [
    "Second, the adjoint state sensitivity is calculated. For this example [i.e. for the sensitivity $\\partial h(x')/\\partial K$], this is calculated using a combination of forward and adjoint model outputs, as described by the equation presented above."
   ]
  },
  {
   "cell_type": "code",
   "execution_count": 11,
   "metadata": {},
   "outputs": [],
   "source": [
    "dhdQr_adj  = np.sum(adj)"
   ]
  },
  {
   "cell_type": "markdown",
   "metadata": {},
   "source": [
    "This comparison of divergence term values shows that the contribution of cells located upgradient of the observation location to the adjoint sensitivity will be zero."
   ]
  },
  {
   "cell_type": "markdown",
   "metadata": {},
   "source": [
    "### 4. Comparison of calculated sensitivities"
   ]
  },
  {
   "cell_type": "code",
   "execution_count": 12,
   "metadata": {},
   "outputs": [
    {
     "name": "stdout",
     "output_type": "stream",
     "text": [
      "Perturbation-based sensitivity  =     119.233129\n",
      "Adjoint state-based sensitivity =      92.408366\n",
      "\n",
      "Ratio                           =   1.290285e+00\n",
      "Difference (absolute)           =  -2.682476e+01\n",
      "Difference (percent)            =   2.249774e-01\n"
     ]
    }
   ],
   "source": [
    "print 'Perturbation-based sensitivity  = '+str('%14.6f'%  dhdQr_pert)\n",
    "print 'Adjoint state-based sensitivity = '+str('%14.6f'%  dhdQr_adj)\n",
    "print\n",
    "print 'Ratio                           = '+str('%14.6e'% (dhdQr_pert/dhdQr_adj))\n",
    "print 'Difference (absolute)           = '+str('%14.6e'% (dhdQr_adj-dhdQr_pert))\n",
    "print 'Difference (percent)            = '+str('%14.6e'%  abs((dhdQr_adj-dhdQr_pert)/dhdQr_pert))"
   ]
  },
  {
   "cell_type": "code",
   "execution_count": null,
   "metadata": {},
   "outputs": [],
   "source": []
  }
 ],
 "metadata": {
  "kernelspec": {
   "display_name": "Python [default]",
   "language": "python",
   "name": "python2"
  },
  "language_info": {
   "codemirror_mode": {
    "name": "ipython",
    "version": 2
   },
   "file_extension": ".py",
   "mimetype": "text/x-python",
   "name": "python",
   "nbconvert_exporter": "python",
   "pygments_lexer": "ipython2",
   "version": "2.7.12"
  }
 },
 "nbformat": 4,
 "nbformat_minor": 2
}
