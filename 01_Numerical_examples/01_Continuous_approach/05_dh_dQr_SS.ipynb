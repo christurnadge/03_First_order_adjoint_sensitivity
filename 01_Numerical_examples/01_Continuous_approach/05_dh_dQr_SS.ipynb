{
 "cells": [
  {
   "cell_type": "markdown",
   "metadata": {},
   "source": [
    "### Sensitivity of hydraulic head at a point to a spatially distributed flux term under steady state flow conditions"
   ]
  },
  {
   "cell_type": "markdown",
   "metadata": {},
   "source": [
    "The sensitivity of hydraulic head ($h$) at a given point ($x'$) to a spatially distributed flux term ($Q_r$) under steady state flow conditions in a one-dimensional plane can be calculated using an adjoint state-based approach as:\n",
    "$$\\begin{align}\\cr\n",
    "\\frac{\\partial h(x')}{\\partial Q_r}=\\int\\limits_X\\psi^*(x)\\;dx\n",
    "\\cr\\cr\\end{align}$$\n",
    "This expression states that this sensitivity is equal to the spatial integral of the adjoint state variable, as calculated by the adjoint state model."
   ]
  },
  {
   "cell_type": "markdown",
   "metadata": {},
   "source": [
    "### 1. Model setup"
   ]
  },
  {
   "cell_type": "markdown",
   "metadata": {},
   "source": [
    "Here we define the model as a callable function, since it will be used by each of:\n",
    "1. The forward model, featuring a 'base' set of parameter values;\n",
    "2. A perturbed version of the forward model, featuring an infinitesimal increase in $Q_r$; and\n",
    "3. The adjoint state model.\n",
    "\n",
    "Each model is defined using the following five parameters:\n",
    "1. Number of model columns ($ncol$)\n",
    "2. Cell width along rows ($delr$)\n",
    "3. Hydraulic conductivity ($K$)\n",
    "4. Hydraulic head specified on Dirichlet boundary ($h_{\\Gamma_1}$) \n",
    "5. Volumetric flux applied across the model domain ($Q_r$) \n",
    "\n",
    "The variable $md$ is used to specify the working directory for each model.\n",
    "\n",
    "Top and bottom of aquifer elevations are set to -100.0 and -101.0 metres respectively (resulting in an aquifer that is one metre thick) to ensure confined conditions.\n",
    "\n",
    "Dirichlet boundary conditions are specified on the right-hand side of the model to represent outflows.\n",
    "\n",
    "Relatively tight convergence criteria values (i.e. 10$^{-6}$) are specified to ensure accuracy of perturbation-based sensitivities, which are based on differences between forward model outputs.\n",
    "\n",
    "The location of the hydraulic head observation of interest is located at the midpoint of the model domain."
   ]
  },
  {
   "cell_type": "code",
   "execution_count": 1,
   "metadata": {},
   "outputs": [
    {
     "name": "stdout",
     "output_type": "stream",
     "text": [
      "flopy is installed in C:\\Python27\\Lib\\site-packages\\flopy\n"
     ]
    }
   ],
   "source": [
    "%matplotlib inline\n",
    "import flopy\n",
    "import numpy as np\n",
    "import matplotlib as mpl\n",
    "import matplotlib.pyplot as plt\n",
    "from matplotlib.patches import Patch\n",
    "import flopy.utils.binaryfile as bf\n",
    "\n",
    "def model(md, nrow, ncol, delr, K, h_BC1, Qr):\n",
    "    ml =  flopy.modflow.Modflow(modelname='model', model_ws=md)\n",
    "    nrow = 1\n",
    "    flopy.modflow.ModflowDis(ml, nlay=1, nrow=1, ncol=ncol, nper=1, delr=delr, delc=1., top=-100.0, botm=-101.0,\n",
    "                             steady=True, perlen=1., nstp=1)\n",
    "    ibound = np.ones([nrow, ncol], dtype=int)\n",
    "    ibound[:, ncol-1] = -1 \n",
    "    strt = h_BC1*np.ones([nrow, ncol], dtype=float)\n",
    "    flopy.modflow.ModflowBas(ml, ibound=ibound, strt=strt)\n",
    "    flopy.modflow.ModflowLpf(ml, hk=K, vka=-999., ss=-999., sy=-999., ipakcb=53)\n",
    "    spd = [[0, 0, c, Qr] for c in range(ncol-1)]\n",
    "    flopy.modflow.ModflowWel(ml, stress_period_data={0: spd}, ipakcb=53)\n",
    "    flopy.modflow.ModflowPcg(ml, hclose=1e-6, rclose=1e-6)\n",
    "    flopy.modflow.ModflowOc(ml, stress_period_data={(0,0): ['save head', 'save budget']})\n",
    "    return ml"
   ]
  },
  {
   "cell_type": "markdown",
   "metadata": {},
   "source": [
    "Values for the 'base' parameter set are defined as follows. These can be modified to demonstrate the method for other model configurations."
   ]
  },
  {
   "cell_type": "code",
   "execution_count": 2,
   "metadata": {},
   "outputs": [],
   "source": [
    "nrow  = 1\n",
    "ncol  = 7\n",
    "ocol  = (ncol-1)/2\n",
    "delr  = 1.5\n",
    "K     = 0.2\n",
    "h_BC1 = 1.0\n",
    "Qr    = 1.0\n",
    "dpar  = 1e-4"
   ]
  },
  {
   "cell_type": "markdown",
   "metadata": {},
   "source": [
    "The model grid and boundary conditions can be presented visually as follows."
   ]
  },
  {
   "cell_type": "code",
   "execution_count": 3,
   "metadata": {},
   "outputs": [
    {
     "data": {
      "image/png": "[encoded data removed]",
      "text/plain": [
       "<Figure size 680.315x198.425 with 1 Axes>"
      ]
     },
     "metadata": {
      "needs_background": "light"
     },
     "output_type": "display_data"
    }
   ],
   "source": [
    "f,s = plt.subplots(1, 1, figsize=[24.00/2.54, 7.00/2.54])\n",
    "s.set_aspect('equal')\n",
    "grid = np.hstack([0.5*np.ones([1, ncol-1]), np.ones([1,1])])\n",
    "s.pcolor(grid, edgecolors='k', linewidths=2, cmap='bwr', vmin=0.0, vmax=1.0)\n",
    "grid[0, ocol] = 2.\n",
    "s.pcolor(np.ma.masked_not_equal(grid, 2.), edgecolors='k', linewidths=2, cmap='Purples', vmin=0.0, vmax=2.0)\n",
    "s.set_xlabel('x (m)')\n",
    "s.set_ylabel('z (m)')\n",
    "l = f.legend(handles=[Patch(facecolor='indigo', edgecolor='k', label=\"Observation well location ($x'$)\"),\n",
    "                      Patch(facecolor='r', edgecolor='k', label='Dirichlet boundary condition ($h_{\\Gamma_1}$)')], \n",
    "             fancybox=False, frameon=False, loc=8, ncol=2)"
   ]
  },
  {
   "cell_type": "markdown",
   "metadata": {},
   "source": [
    "### 2. Sensitivity calculation using perturbation-based approach"
   ]
  },
  {
   "cell_type": "markdown",
   "metadata": {},
   "source": [
    "First, the forward model featuring the 'base' parameter set is run."
   ]
  },
  {
   "cell_type": "code",
   "execution_count": 4,
   "metadata": {},
   "outputs": [],
   "source": [
    "md = 'forward_base'\n",
    "ml = model(md, nrow, ncol, delr, K, h_BC1, Qr)    \n",
    "\n",
    "ml.write_input()\n",
    "success, buff = ml.run_model(silent=True)\n",
    "hds_base = bf.HeadFile(md+'/'+'model.hds').get_data()[0,:,:]\n",
    "hob_base = float(hds_base[0, ocol])"
   ]
  },
  {
   "cell_type": "markdown",
   "metadata": {},
   "source": [
    "The spatial distribution of hydraulic head calculated by the 'base' forward model can be presented visually as follows."
   ]
  },
  {
   "cell_type": "code",
   "execution_count": 5,
   "metadata": {},
   "outputs": [
    {
     "data": {
      "image/png": "[encoded data removed]",
      "text/plain": [
       "<Figure size 680.315x481.89 with 3 Axes>"
      ]
     },
     "metadata": {
      "needs_background": "light"
     },
     "output_type": "display_data"
    }
   ],
   "source": [
    "f,s = plt.subplots(2, 1, figsize=[24.00/2.54, 17.00/2.54])\n",
    "s[0].set_aspect(0.006)\n",
    "s[0].set_title('Forward model - base parameter set\\n')\n",
    "s[0].plot(0.5+np.arange(ncol), hds_base.flatten(), 'ko--', mfc='none')\n",
    "s[0].set_xlabel('x (m)')\n",
    "s[0].set_ylabel('$h$ (m)')\n",
    "s[0].spines['top'].set_visible(False)            \n",
    "s[0].spines['right'].set_visible(False)            \n",
    "s[1].set_aspect('equal')\n",
    "p = s[1].pcolor(hds_base, edgecolors='k', linewidths=2, cmap='viridis')\n",
    "s[1].set_xlabel('x (m)')\n",
    "s[1].set_ylabel('z (m)')\n",
    "l = f.colorbar(p, orientation='horizontal', pad=0.4, aspect=30, label='Hydraulic head ($h$; m)')\n",
    "d = s[0].set_xlim(s[1].get_xlim())"
   ]
  },
  {
   "cell_type": "markdown",
   "metadata": {},
   "source": [
    "Second, the forward model featuring the perturbed parameter set is run. "
   ]
  },
  {
   "cell_type": "code",
   "execution_count": 6,
   "metadata": {},
   "outputs": [],
   "source": [
    "md = 'forward_perturbed'\n",
    "ml = model(md, nrow, ncol, delr, K, h_BC1, Qr)    \n",
    "\n",
    "ml.remove_package('wel')\n",
    "spd = [[0, 0, c, Qr*(1.0+dpar)] for c in range(ncol-1)]\n",
    "flopy.modflow.ModflowWel(ml, stress_period_data=spd, ipakcb=53)\n",
    "    \n",
    "ml.write_input()\n",
    "success, buff = ml.run_model(silent=True)\n",
    "hds_pert = bf.HeadFile(md+'/'+'model.hds').get_data()[0,:,:]\n",
    "hob_pert = float(hds_pert[0, ocol])"
   ]
  },
  {
   "cell_type": "markdown",
   "metadata": {},
   "source": [
    "The spatial distribution of hydraulic head calculated by the perturbed forward model can be presented visually as follows."
   ]
  },
  {
   "cell_type": "code",
   "execution_count": 7,
   "metadata": {},
   "outputs": [
    {
     "data": {
      "image/png": "[encoded data removed]",
      "text/plain": [
       "<Figure size 680.315x481.89 with 3 Axes>"
      ]
     },
     "metadata": {
      "needs_background": "light"
     },
     "output_type": "display_data"
    }
   ],
   "source": [
    "f,s = plt.subplots(2, 1, figsize=[24.00/2.54, 17.00/2.54])\n",
    "s[0].set_aspect(0.006)\n",
    "s[0].set_title('Forward model - perturbed parameter set\\n')\n",
    "s[0].plot(0.5+np.arange(ncol), hds_pert.flatten(), 'ko--', mfc='none')\n",
    "s[0].set_xlabel('x (m)')\n",
    "s[0].set_ylabel('$h$ (m)')\n",
    "s[0].spines['top'].set_visible(False)            \n",
    "s[0].spines['right'].set_visible(False)            \n",
    "s[1].set_aspect('equal')\n",
    "p = s[1].pcolor(hds_pert, edgecolors='k', linewidths=2, cmap='viridis')\n",
    "s[1].set_xlabel('x (m)')\n",
    "s[1].set_ylabel('z (m)')\n",
    "l = f.colorbar(p, orientation='horizontal', pad=0.4, aspect=30, label='Hydraulic head ($h$; m)')\n",
    "d = s[0].set_xlim(s[1].get_xlim())"
   ]
  },
  {
   "cell_type": "markdown",
   "metadata": {},
   "source": [
    "Third, the perturbation-based sensitivity is calculated."
   ]
  },
  {
   "cell_type": "code",
   "execution_count": 8,
   "metadata": {},
   "outputs": [],
   "source": [
    "dhdQr_pert = (hob_pert-hob_base)/(Qr*dpar)"
   ]
  },
  {
   "cell_type": "markdown",
   "metadata": {},
   "source": [
    "### 3. Sensitivity calculation using adjoint state-based approach"
   ]
  },
  {
   "cell_type": "markdown",
   "metadata": {},
   "source": [
    "First, the adjoint state model is defined. This is mostly identical to the forward model, except for three conditions: \n",
    "1. The value specified on the Dirichlet boundary condition is set to zero.\n",
    "2. The spatially distributed source/sink term used in the forward model is omitted. \n",
    "3. The source of adjoint state is specified at the location of the hydraulic head observation of interest using a  source term with flux magnitude equal to unity."
   ]
  },
  {
   "cell_type": "code",
   "execution_count": 19,
   "metadata": {},
   "outputs": [],
   "source": [
    "md = 'adjoint'\n",
    "ml = model(md, nrow, ncol, delr, K, h_BC1, Qr)    \n",
    "\n",
    "ml.remove_package('bas6')\n",
    "ibound = np.ones([nrow, ncol], dtype=int)\n",
    "ibound[:, ncol-1] = -1\n",
    "strt = np.zeros([nrow, ncol])\n",
    "flopy.modflow.ModflowBas(ml, ibound=ibound, strt=strt)\n",
    "\n",
    "ml.remove_package('wel')\n",
    "flopy.modflow.ModflowWel(ml, stress_period_data={0: [0, 0, ocol, 1.]}, ipakcb=53)\n",
    "\n",
    "ml.write_input()\n",
    "success, buff = ml.run_model(silent=True)\n",
    "adj = bf.HeadFile(md+'/'+'model.hds').get_data()[0,:,:]"
   ]
  },
  {
   "cell_type": "markdown",
   "metadata": {},
   "source": [
    "The adjoint state model grid and boundary conditions can be presented visually as follows."
   ]
  },
  {
   "cell_type": "code",
   "execution_count": 20,
   "metadata": {},
   "outputs": [
    {
     "data": {
      "image/png": "[encoded data removed]",
      "text/plain": [
       "<Figure size 680.315x198.425 with 1 Axes>"
      ]
     },
     "metadata": {
      "needs_background": "light"
     },
     "output_type": "display_data"
    }
   ],
   "source": [
    "f,s = plt.subplots(1, 1, figsize=[24.00/2.54, 7.00/2.54])\n",
    "s.set_aspect('equal')\n",
    "s.set_title('Adjoint state model grid and boundary conditions\\n')\n",
    "grid = np.hstack([0.5*np.ones([1, ncol-1]), np.ones([1,1])])\n",
    "s.pcolor(grid, edgecolors='k', linewidths=2, cmap='bwr', vmin=0.0, vmax=1.0)\n",
    "grid[0, ocol] = 2.\n",
    "s.pcolor(np.ma.masked_not_equal(grid, 2.), edgecolors='k', linewidths=2, cmap='Purples', vmin=0.0, vmax=2.0)\n",
    "s.set_xlabel('x (m)')\n",
    "s.set_ylabel('z (m)')\n",
    "l = f.legend(handles=[Patch(facecolor='indigo', edgecolor='k', \n",
    "                            label=\"Unit source term at observation well location ($x'$)\"),\n",
    "                      Patch(facecolor='r', edgecolor='k', label='Zero-valued Dirichlet boundary condition ($h_{\\Gamma_1}$)')], \n",
    "             fancybox=False, frameon=False, loc=8, ncol=3)"
   ]
  },
  {
   "cell_type": "markdown",
   "metadata": {},
   "source": [
    "The spatial distribution of the adjoint state variable calculated by the adjoint model can be presented visually as follows. Note that the value of the adjoint state variable is zero at the right-most cell; this is because the Dirichlet boundary condition is zero-valued in the adjoint state model."
   ]
  },
  {
   "cell_type": "code",
   "execution_count": 21,
   "metadata": {},
   "outputs": [
    {
     "data": {
      "image/png": "[encoded data removed]",
      "text/plain": [
       "<Figure size 680.315x481.89 with 3 Axes>"
      ]
     },
     "metadata": {
      "needs_background": "light"
     },
     "output_type": "display_data"
    }
   ],
   "source": [
    "f,s = plt.subplots(2, 1, figsize=[24.00/2.54, 17.00/2.54])\n",
    "s[0].set_aspect(0.05)\n",
    "s[0].set_title('Adjoint state model\\n')\n",
    "s[0].plot(0.5+np.arange(ncol), adj.flatten(), 'ko--', mfc='none')\n",
    "s[0].set_xlabel('x (m)')\n",
    "s[0].set_ylabel('$\\psi^*$ (-)')\n",
    "s[0].spines['top'].set_visible(False)            \n",
    "s[0].spines['right'].set_visible(False)            \n",
    "s[1].set_aspect('equal')\n",
    "p = s[1].pcolor(adj, edgecolors='k', linewidths=2, cmap='viridis')\n",
    "s[1].set_xlabel('x (m)')\n",
    "s[1].set_ylabel('z (m)')\n",
    "l = f.colorbar(p, orientation='horizontal', pad=0.4, aspect=30, label='Adjoint state variable ($\\psi^*$; dimensionless)')\n",
    "d = s[0].set_xlim(s[1].get_xlim())"
   ]
  },
  {
   "cell_type": "markdown",
   "metadata": {},
   "source": [
    "Second, the adjoint state sensitivity is calculated. For this example [i.e. for the sensitivity $\\partial h(x')/\\partial Q_r$], this is calculated using adjoint model outputs only, as described by the equation presented above."
   ]
  },
  {
   "cell_type": "code",
   "execution_count": 22,
   "metadata": {},
   "outputs": [],
   "source": [
    "dhdQr_adj  = np.sum(adj)"
   ]
  },
  {
   "cell_type": "markdown",
   "metadata": {},
   "source": [
    "### 4. Comparison of calculated sensitivities"
   ]
  },
  {
   "cell_type": "code",
   "execution_count": 23,
   "metadata": {},
   "outputs": [
    {
     "name": "stdout",
     "output_type": "stream",
     "text": [
      "Perturbation-based sensitivity  =     112.533569\n",
      "Adjoint state-based sensitivity =     112.499992\n",
      "\n",
      "Ratio                           =   1.000298e+00\n",
      "Difference (absolute)           =  -3.357697e-02\n",
      "Difference (percent)            =   2.983729e-04\n"
     ]
    }
   ],
   "source": [
    "print 'Perturbation-based sensitivity  = '+str('%14.6f'%  dhdQr_pert)\n",
    "print 'Adjoint state-based sensitivity = '+str('%14.6f'%  dhdQr_adj)\n",
    "print\n",
    "print 'Ratio                           = '+str('%14.6e'% (dhdQr_pert/dhdQr_adj))\n",
    "print 'Difference (absolute)           = '+str('%14.6e'% (dhdQr_adj-dhdQr_pert))\n",
    "print 'Difference (percent)            = '+str('%14.6e'%  abs((dhdQr_adj-dhdQr_pert)/dhdQr_pert))"
   ]
  },
  {
   "cell_type": "code",
   "execution_count": null,
   "metadata": {},
   "outputs": [],
   "source": []
  }
 ],
 "metadata": {
  "anaconda-cloud": {},
  "kernelspec": {
   "display_name": "Python [default]",
   "language": "python",
   "name": "python2"
  },
  "language_info": {
   "codemirror_mode": {
    "name": "ipython",
    "version": 2
   },
   "file_extension": ".py",
   "mimetype": "text/x-python",
   "name": "python",
   "nbconvert_exporter": "python",
   "pygments_lexer": "ipython2",
   "version": "2.7.12"
  }
 },
 "nbformat": 4,
 "nbformat_minor": 2
}
