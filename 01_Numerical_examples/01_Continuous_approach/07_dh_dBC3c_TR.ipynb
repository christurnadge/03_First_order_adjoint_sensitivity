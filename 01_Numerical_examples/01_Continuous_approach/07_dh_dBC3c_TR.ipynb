{
 "cells": [
  {
   "cell_type": "markdown",
   "metadata": {},
   "source": [
    "### Sensitivity of hydraulic head at a point to Robin boundary conductance value under transient flow conditions"
   ]
  },
  {
   "cell_type": "markdown",
   "metadata": {},
   "source": [
    "The sensitivity of hydraulic head ($h$) at a given point in space and time ($x',t'$) to the conductance value specified on a Robin boundary (i.e. on $\\Gamma_3$) under steady transient conditions in a one-dimensional plane can be calculated using an adjoint state-based approach as:\n",
    "$$\\begin{align}\\cr\n",
    "\\frac{\\partial h(x',t')}{\\partial h_{\\Gamma_3}}=\\int\\limits_T\\oint\\limits_{\\Gamma_3} \\psi^*(x,t)\\;[h_{\\Gamma_3}-h(x,t)]\\;dx\\;dt\n",
    "\\cr\\cr\\end{align}$$\n",
    "This expression states that this sensitivity is equal to the spatio-temporal integral of the product of:\n",
    "1. the hydraulic gradient on the Robin boundary, as calculated by the forward model; and,\n",
    "2. the adjoint state variable along the Robin boundary, as calculated by the adjoint state model."
   ]
  },
  {
   "cell_type": "markdown",
   "metadata": {},
   "source": [
    "### 1. Model setup"
   ]
  },
  {
   "cell_type": "markdown",
   "metadata": {},
   "source": [
    "Here we define the model as a callable function, since it will be used by each of:\n",
    "1. The forward model, featuring a 'base' set of parameter values;\n",
    "2. A perturbed version of the forward model, featuring an infinitesimal increase in $c_{\\Gamma_3}$; and\n",
    "3. The adjoint state model.\n",
    "\n",
    "Each model is defined using the following seven parameters:\n",
    "1. Number of model columns ($ncol$)\n",
    "2. Cell width along rows ($delr$)\n",
    "3. Hydraulic conductivity ($K$)\n",
    "4. Specific storage ($S_s$)\n",
    "5. Hydraulic head specified on Dirichlet boundary ($h_{\\Gamma_1}$) \n",
    "6. Hydraulic head specified on Robin boundary ($h_{\\Gamma_3}$) \n",
    "7. Conductance specified on Robin boundary ($c_{\\Gamma_3}$) \n",
    "\n",
    "The variable $md$ is used to specify the working directory for each model.\n",
    "\n",
    "Top and bottom of aquifer elevations are set to -100.0 and -101.0 metres respectively (resulting in an aquifer that is one metre thick) to ensure confined conditions.\n",
    "\n",
    "Dirichlet boundary conditions are specified on the right-hand side of the model to represent outflows.\n",
    "\n",
    "Initial conditions that are in equilibrium with specified boundary conditions and source/sink terms are calculated during a preceding steady state stress period. The variables $nsper$ and $ntper$ are used to specify the number of steady state and transient stress periods, all of which are one day in length.\n",
    "\n",
    "Relatively tight convergence criteria values (i.e. 10$^{-6}$) are specified to ensure accuracy of perturbation-based sensitivities, which are based on differences between forward model outputs.\n",
    "\n",
    "The location of the hydraulic head observation of interest is located at the midpoint of the model domain."
   ]
  },
  {
   "cell_type": "code",
   "execution_count": 1,
   "metadata": {},
   "outputs": [
    {
     "name": "stdout",
     "output_type": "stream",
     "text": [
      "flopy is installed in C:\\Python27\\Lib\\site-packages\\flopy\n"
     ]
    }
   ],
   "source": [
    "%matplotlib inline\n",
    "import flopy\n",
    "import numpy as np\n",
    "import matplotlib as mpl\n",
    "import matplotlib.pyplot as plt\n",
    "from matplotlib.patches import Patch\n",
    "import flopy.utils.binaryfile as bf\n",
    "\n",
    "def model(md, nrow, ncol, delr, nsper, ntper, K, Ss, h_BC1, h_BC3, c_BC3):\n",
    "    ml =  flopy.modflow.Modflow(modelname='model', model_ws=md)\n",
    "    nrow = 1\n",
    "    flopy.modflow.ModflowDis(ml, nlay=1, nrow=1, ncol=ncol, nper=nsper+ntper, delr=delr, delc=1., top=-100.0, \n",
    "                             botm=-101.0, steady=nsper*[True]+ntper*[False], perlen=(nsper+ntper)*[1.0], \n",
    "                             nstp=(nsper+ntper)*[1])\n",
    "    ibound = np.ones([nrow, ncol], dtype=int)\n",
    "    ibound[:, ncol-1] = -1 \n",
    "    strt = h_BC1*np.ones([nrow, ncol], dtype=float)\n",
    "    flopy.modflow.ModflowBas(ml, ibound=ibound, strt=strt)\n",
    "    flopy.modflow.ModflowLpf(ml, hk=K, vka=-999., ss=Ss, sy=-999., ipakcb=53)\n",
    "    flopy.modflow.ModflowGhb(ml, stress_period_data={0: [0, 0, 0, h_BC3, c_BC3]}, ipakcb=53)\n",
    "    flopy.modflow.ModflowPcg(ml, hclose=1e-6, rclose=1e-6)\n",
    "    flopy.modflow.ModflowOc(ml, \n",
    "                            stress_period_data={(i,0): ['save head', 'save budget'] for i in range(nsper+ntper)})\n",
    "    return ml"
   ]
  },
  {
   "cell_type": "markdown",
   "metadata": {},
   "source": [
    "Values for the 'base' parameter set are defined as follows. These can be modified to demonstrate the method for other model configurations."
   ]
  },
  {
   "cell_type": "code",
   "execution_count": 2,
   "metadata": {},
   "outputs": [],
   "source": [
    "nrow  = 1\n",
    "ncol  = 7\n",
    "ocol  = (ncol-1)/2\n",
    "delr  = 1.5\n",
    "nsper = 1\n",
    "ntper = 3\n",
    "K     = 0.2\n",
    "Ss    = 1e-6\n",
    "h_BC1 = 1.0\n",
    "h_BC3 = 40.0\n",
    "c_BC3 = 1.0\n",
    "dpar  = 1e-4"
   ]
  },
  {
   "cell_type": "markdown",
   "metadata": {},
   "source": [
    "The model grid and boundary conditions can be presented visually as follows."
   ]
  },
  {
   "cell_type": "code",
   "execution_count": 3,
   "metadata": {},
   "outputs": [
    {
     "data": {
      "image/png": "[encoded data removed]",
      "text/plain": [
       "<Figure size 680.315x198.425 with 1 Axes>"
      ]
     },
     "metadata": {
      "needs_background": "light"
     },
     "output_type": "display_data"
    }
   ],
   "source": [
    "f,s = plt.subplots(1, 1, figsize=[24.00/2.54, 7.00/2.54])\n",
    "s.set_aspect('equal')\n",
    "grid = np.hstack([np.zeros([1,1]), 0.5*np.ones([1, ncol-2]), np.ones([1,1])])\n",
    "s.pcolor(grid, edgecolors='k', linewidths=2, cmap='bwr', vmin=0.0, vmax=1.0)\n",
    "grid[0, ocol] = 2.\n",
    "s.pcolor(np.ma.masked_not_equal(grid, 2.), edgecolors='k', linewidths=2, cmap='Purples', vmin=0.0, vmax=2.0)\n",
    "s.set_xlabel('x (m)')\n",
    "s.set_ylabel('z (m)')\n",
    "l = f.legend(handles=[Patch(facecolor='b', edgecolor='k', label='Robin boundary condition ($h_{\\Gamma_3}\\:,c_{\\Gamma_3}$)'),\n",
    "                      Patch(facecolor='indigo', edgecolor='k', label=\"Observation well location ($x'$)\"),\n",
    "                      Patch(facecolor='r', edgecolor='k', label='Dirichlet boundary condition ($h_{\\Gamma_1}$)')], \n",
    "             fancybox=False, frameon=False, loc=8, ncol=3)"
   ]
  },
  {
   "cell_type": "markdown",
   "metadata": {},
   "source": [
    "### 2. Sensitivity calculation using perturbation-based approach"
   ]
  },
  {
   "cell_type": "markdown",
   "metadata": {},
   "source": [
    "First, the forward model featuring the 'base' parameter set is run."
   ]
  },
  {
   "cell_type": "code",
   "execution_count": 4,
   "metadata": {},
   "outputs": [],
   "source": [
    "md = 'forward_base'\n",
    "ml = model(md, nrow, ncol, delr, nsper, ntper, K, Ss, h_BC1, h_BC3, c_BC3)    \n",
    "\n",
    "ml.write_input()\n",
    "success, buff = ml.run_model(silent=True)\n",
    "\n",
    "hds_base = bf.HeadFile(md+'/'+'model.hds').get_alldata()\n",
    "hob_base = float(hds_base[-1,0,0,ocol])"
   ]
  },
  {
   "cell_type": "markdown",
   "metadata": {},
   "source": [
    "The spatial distribution of hydraulic head calculated by the 'base' forward model can be presented visually as follows."
   ]
  },
  {
   "cell_type": "code",
   "execution_count": 5,
   "metadata": {},
   "outputs": [
    {
     "data": {
      "image/png": "[encoded data removed]",
      "text/plain": [
       "<Figure size 680.315x481.89 with 3 Axes>"
      ]
     },
     "metadata": {
      "needs_background": "light"
     },
     "output_type": "display_data"
    }
   ],
   "source": [
    "f,s = plt.subplots(2, 1, figsize=[24.00/2.54, 17.00/2.54])\n",
    "s[0].set_aspect(0.03)\n",
    "s[0].set_title('Forward model - base parameter set\\n')\n",
    "s[0].plot(0.5+np.arange(ncol), hds_base[-1,0,0,:].flatten(), 'ko--', mfc='none')\n",
    "s[0].set_xlabel('x (m)')\n",
    "s[0].set_ylabel('$h$ (m)')\n",
    "s[0].spines['top'].set_visible(False)            \n",
    "s[0].spines['right'].set_visible(False)            \n",
    "s[1].set_aspect('equal')\n",
    "p = s[1].pcolor(hds_base[-1,0,:,:], edgecolors='k', linewidths=2, cmap='viridis')\n",
    "s[1].set_xlabel('x (m)')\n",
    "s[1].set_ylabel('z (m)')\n",
    "l = f.colorbar(p, orientation='horizontal', pad=0.4, aspect=30, label='Hydraulic head ($h$; m)')\n",
    "d = s[0].set_xlim(s[1].get_xlim())"
   ]
  },
  {
   "cell_type": "markdown",
   "metadata": {},
   "source": [
    "Second, the forward model featuring the perturbed parameter set is run. "
   ]
  },
  {
   "cell_type": "code",
   "execution_count": 6,
   "metadata": {},
   "outputs": [],
   "source": [
    "md = 'forward_perturbed'\n",
    "ml = model(md, nrow, ncol, delr, nsper, ntper, K, Ss, h_BC1, h_BC3, c_BC3)    \n",
    "\n",
    "ml.remove_package('ghb')\n",
    "flopy.modflow.ModflowGhb(ml, stress_period_data={0: [0, 0, 0, h_BC3, c_BC3*(1.0+dpar)]}, ipakcb=53)\n",
    "\n",
    "ml.write_input()\n",
    "success, buff = ml.run_model(silent=True)\n",
    "\n",
    "hds_pert = bf.HeadFile(md+'/'+'model.hds').get_alldata()\n",
    "hob_pert = float(hds_pert[-1,0,0,ocol])"
   ]
  },
  {
   "cell_type": "markdown",
   "metadata": {},
   "source": [
    "The spatial distribution of hydraulic head calculated by the perturbed forward model can be presented visually as follows."
   ]
  },
  {
   "cell_type": "code",
   "execution_count": 7,
   "metadata": {},
   "outputs": [
    {
     "data": {
      "image/png": "[encoded data removed]",
      "text/plain": [
       "<Figure size 680.315x481.89 with 3 Axes>"
      ]
     },
     "metadata": {
      "needs_background": "light"
     },
     "output_type": "display_data"
    }
   ],
   "source": [
    "f,s = plt.subplots(2, 1, figsize=[24.00/2.54, 17.00/2.54])\n",
    "s[0].set_aspect(0.03)\n",
    "s[0].set_title('Forward model - perturbed parameter set\\n')\n",
    "s[0].plot(0.5+np.arange(ncol), hds_pert[-1,0,:,:].flatten(), 'ko--', mfc='none')\n",
    "s[0].set_xlabel('x (m)')\n",
    "s[0].set_ylabel('$h$ (m)')\n",
    "s[0].spines['top'].set_visible(False)            \n",
    "s[0].spines['right'].set_visible(False)            \n",
    "s[1].set_aspect('equal')\n",
    "p = s[1].pcolor(hds_pert[-1,0,:,:], edgecolors='k', linewidths=2, cmap='viridis')\n",
    "s[1].set_xlabel('x (m)')\n",
    "s[1].set_ylabel('z (m)')\n",
    "l = f.colorbar(p, orientation='horizontal', pad=0.4, aspect=30, label='Hydraulic head ($h$; m)')\n",
    "d = s[0].set_xlim(s[1].get_xlim())"
   ]
  },
  {
   "cell_type": "markdown",
   "metadata": {},
   "source": [
    "Third, the perturbation-based sensitivity is calculated."
   ]
  },
  {
   "cell_type": "code",
   "execution_count": 8,
   "metadata": {},
   "outputs": [],
   "source": [
    "dhdh_BC3c_pert = (hob_pert-hob_base)/(h_BC3*dpar)"
   ]
  },
  {
   "cell_type": "markdown",
   "metadata": {},
   "source": [
    "### 3. Sensitivity calculation using adjoint state-based approach"
   ]
  },
  {
   "cell_type": "markdown",
   "metadata": {},
   "source": [
    "First, the adjoint state model is defined. This is mostly identical to the forward model, except for five conditions: \n",
    "1. The hydraulic head value specified on the Dirichlet boundary condition is set to zero.\n",
    "2. The hydraulic head value specified on the Robin boundary condition is set to zero.\n",
    "3. An impulse source of adjoint state is specified at the location of the hydraulic head observation of interest using an initial condition with a value equal to unity. This is subsequently scaled (i.e. divided) by uniform specific storage and cell width values.\n",
    "4. Zero-valued initial conditions are specified across the remainder of the model domain.\n",
    "5. The steady state stress period used in the forward model to calculate equilibrium initial conditions is omitted."
   ]
  },
  {
   "cell_type": "code",
   "execution_count": 9,
   "metadata": {},
   "outputs": [],
   "source": [
    "md = 'adjoint'\n",
    "nsper = 0\n",
    "ml = model(md, nrow, ncol, delr, nsper, ntper, K, Ss, h_BC1, h_BC3, c_BC3)    \n",
    "\n",
    "ml.remove_package('bas6')\n",
    "ibound = np.ones([nrow, ncol], dtype=int)\n",
    "ibound[:, ncol-1] = -1\n",
    "strt = np.zeros([nrow, ncol])\n",
    "strt[0, ocol] = 1.0/Ss/delr/h_BC3\n",
    "flopy.modflow.ModflowBas(ml, ibound=ibound, strt=strt)\n",
    "\n",
    "ml.remove_package('ghb')\n",
    "flopy.modflow.ModflowGhb(ml, stress_period_data={0: [0, 0, 0, 0.0, c_BC3]}, ipakcb=53)\n",
    "\n",
    "ml.write_input()\n",
    "success, buff = ml.run_model(silent=True)\n",
    "\n",
    "adj = bf.HeadFile(md+'/'+'model.hds').get_alldata()"
   ]
  },
  {
   "cell_type": "markdown",
   "metadata": {},
   "source": [
    "The adjoint state model grid and boundary conditions can be presented visually as follows."
   ]
  },
  {
   "cell_type": "code",
   "execution_count": 10,
   "metadata": {},
   "outputs": [
    {
     "data": {
      "image/png": "[encoded data removed]",
      "text/plain": [
       "<Figure size 680.315x198.425 with 1 Axes>"
      ]
     },
     "metadata": {
      "needs_background": "light"
     },
     "output_type": "display_data"
    }
   ],
   "source": [
    "f,s = plt.subplots(1, 1, figsize=[24.00/2.54, 7.00/2.54])\n",
    "s.set_aspect('equal')\n",
    "s.set_title('Adjoint state model grid and boundary conditions\\n')\n",
    "grid = np.hstack([0.5*np.ones([1, ncol-1]), np.ones([1,1])])\n",
    "s.pcolor(grid, edgecolors='k', linewidths=2, cmap='bwr', vmin=0.0, vmax=1.0)\n",
    "grid[0, ocol] = 2.\n",
    "s.pcolor(np.ma.masked_not_equal(grid, 2.), edgecolors='k', linewidths=2, cmap='Purples', vmin=0.0, vmax=2.0)\n",
    "s.set_xlabel('x (m)')\n",
    "s.set_ylabel('z (m)')\n",
    "l = f.legend(handles=[Patch(facecolor='indigo', edgecolor='k', \n",
    "                            label=\"Unit source term at observation well location ($x'$)\"),\n",
    "                      Patch(facecolor='r', edgecolor='k', \n",
    "                            label='Zero-valued Dirichlet boundary condition ($h_{\\Gamma_1}$)')], \n",
    "             fancybox=False, frameon=False, loc=8, ncol=3)"
   ]
  },
  {
   "cell_type": "markdown",
   "metadata": {},
   "source": [
    "The spatial distribution of the adjoint state variable calculated by the adjoint model can be presented visually as follows. Note that the value of the adjoint state variable is zero at the right-most cell; this is because the Dirichlet boundary condition is zero-valued in the adjoint state model."
   ]
  },
  {
   "cell_type": "code",
   "execution_count": 11,
   "metadata": {},
   "outputs": [
    {
     "data": {
      "image/png": "[encoded data removed]",
      "text/plain": [
       "<Figure size 680.315x481.89 with 3 Axes>"
      ]
     },
     "metadata": {
      "needs_background": "light"
     },
     "output_type": "display_data"
    }
   ],
   "source": [
    "f,s = plt.subplots(2, 1, figsize=[24.00/2.54, 17.00/2.54])\n",
    "s[0].set_aspect(1e9)\n",
    "s[0].set_title('Adjoint state model\\n')\n",
    "s[0].plot(0.5+np.arange(ncol), adj[-1,0,:,:].flatten(), 'ko--', mfc='none')\n",
    "s[0].set_xlabel('x (m)')\n",
    "s[0].set_ylabel('$\\psi^*$ (-)')\n",
    "s[0].spines['top'].set_visible(False)            \n",
    "s[0].spines['right'].set_visible(False)            \n",
    "s[1].set_aspect('equal')\n",
    "p = s[1].pcolor(adj[-1,0,:,:], edgecolors='k', linewidths=2, cmap='viridis')\n",
    "s[1].set_xlabel('x (m)')\n",
    "s[1].set_ylabel('z (m)')\n",
    "l = f.colorbar(p, orientation='horizontal', pad=0.4, aspect=30, label='Adjoint state variable ($\\psi^*$; dimensionless)')\n",
    "d = s[0].set_xlim(s[1].get_xlim())"
   ]
  },
  {
   "cell_type": "markdown",
   "metadata": {},
   "source": [
    "Second, the adjoint state sensitivity is calculated. For this example [i.e. for the sensitivity $\\partial h(x',t')/\\partial c_{\\Gamma_3}$], this is calculated using adjoint model outputs only, as described by the equation presented above."
   ]
  },
  {
   "cell_type": "code",
   "execution_count": 12,
   "metadata": {},
   "outputs": [],
   "source": [
    "adj = adj[::-1,:,:,:]\n",
    "dhdh_BC3c_adj  = np.sum(adj[:, 0, 0, 0]*(h_BC3-hds_base[1:, 0, 0, 0]))"
   ]
  },
  {
   "cell_type": "markdown",
   "metadata": {},
   "source": [
    "### 4. Comparison of calculated sensitivities"
   ]
  },
  {
   "cell_type": "code",
   "execution_count": 13,
   "metadata": {},
   "outputs": [
    {
     "name": "stdout",
     "output_type": "stream",
     "text": [
      "Perturbation-based sensitivity  =       0.010490\n",
      "Adjoint state-based sensitivity =       0.010367\n",
      "\n",
      "Ratio                           =   1.011860e+00\n",
      "Difference (absolute)           =  -1.229551e-04\n",
      "Difference (percent)            =   1.172070e-02\n"
     ]
    }
   ],
   "source": [
    "print 'Perturbation-based sensitivity  = '+str('%14.6f'%  dhdh_BC3c_pert)\n",
    "print 'Adjoint state-based sensitivity = '+str('%14.6f'%  dhdh_BC3c_adj)\n",
    "print\n",
    "print 'Ratio                           = '+str('%14.6e'% (dhdh_BC3c_pert/dhdh_BC3c_adj))\n",
    "print 'Difference (absolute)           = '+str('%14.6e'% (dhdh_BC3c_adj-dhdh_BC3c_pert))\n",
    "print 'Difference (percent)            = '+str('%14.6e'%  abs((dhdh_BC3c_adj-dhdh_BC3c_pert)/dhdh_BC3c_pert))"
   ]
  },
  {
   "cell_type": "code",
   "execution_count": null,
   "metadata": {},
   "outputs": [],
   "source": []
  }
 ],
 "metadata": {
  "anaconda-cloud": {},
  "kernelspec": {
   "display_name": "Python [default]",
   "language": "python",
   "name": "python2"
  },
  "language_info": {
   "codemirror_mode": {
    "name": "ipython",
    "version": 2
   },
   "file_extension": ".py",
   "mimetype": "text/x-python",
   "name": "python",
   "nbconvert_exporter": "python",
   "pygments_lexer": "ipython2",
   "version": "2.7.12"
  }
 },
 "nbformat": 4,
 "nbformat_minor": 2
}
